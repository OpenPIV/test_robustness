{
 "cells": [
  {
   "cell_type": "code",
   "execution_count": 1,
   "metadata": {},
   "outputs": [
    {
     "name": "stdout",
     "output_type": "stream",
     "text": [
      "Python implementation: CPython\n",
      "Python version       : 3.8.12\n",
      "IPython version      : 8.4.0\n",
      "\n",
      "numpy  : 1.23.1\n",
      "openpiv: 0.24.4rc0\n",
      "\n",
      "Compiler    : GCC 4.8.5 20150623 (Red Hat 4.8.5-44)\n",
      "OS          : Linux\n",
      "Release     : 5.4.0-131-generic\n",
      "Machine     : x86_64\n",
      "Processor   : x86_64\n",
      "CPU cores   : 8\n",
      "Architecture: 64bit\n",
      "\n",
      "Git hash: 43770436628301a474e4cbc158676c189257583a\n",
      "\n",
      "Git branch: alex_test_v025\n",
      "\n"
     ]
    }
   ],
   "source": [
    "%reload_ext watermark\n",
    "%watermark -v -m -p numpy,openpiv -g -b"
   ]
  },
  {
   "cell_type": "code",
   "execution_count": 2,
   "metadata": {},
   "outputs": [],
   "source": [
    "from openpiv import windef\n",
    "from openpiv import tools, scaling, validation, filters, preprocess\n",
    "import openpiv.pyprocess as process\n",
    "from openpiv import pyprocess\n",
    "import numpy as np\n",
    "import os\n",
    "from time import time\n",
    "import warnings\n",
    "\n",
    "\n",
    "import matplotlib.pyplot as plt\n",
    "%matplotlib inline  "
   ]
  },
  {
   "cell_type": "code",
   "execution_count": 3,
   "metadata": {},
   "outputs": [],
   "source": [
    "settings = windef.PIVSettings()\n",
    "\n",
    "\n",
    "'Data related settings'\n",
    "# Folder with the images to process\n",
    "settings.filepath_images = '../data/test10/'\n",
    "# Folder for the outputs\n",
    "settings.save_path = settings.filepath_images\n",
    "# Root name of the output Folder for Result Files\n",
    "settings.save_folder_suffix = 'Test_robustness'\n",
    "# Format and Image Sequence\n",
    "settings.frame_pattern_a = 'B001_1.tif'\n",
    "settings.frame_pattern_b = 'B001_2.tif'\n",
    "\n",
    "'Region of interest'\n",
    "# (50,300,50,300) #Region of interest: (xmin,xmax,ymin,ymax) or 'full' for full image\n",
    "settings.ROI = 'full'\n",
    "\n",
    "'Image preprocessing'\n",
    "# 'None' for no masking, 'edges' for edges masking, 'intensity' for intensity masking\n",
    "# WARNING: This part is under development so better not to use MASKS\n",
    "settings.dynamic_masking_method = 'None'\n",
    "settings.dynamic_masking_threshold = 0.005\n",
    "settings.dynamic_masking_filter_size = 7\n",
    "\n",
    "settings.deformation_method = 'symmetric'\n",
    "\n",
    "'Processing Parameters'\n",
    "settings.correlation_method='circular'  # 'circular' or 'linear'\n",
    "settings.iterations = 5  # select the number of PIV passes\n",
    "# add the interroagtion window size for each pass. \n",
    "# For the moment, it should be a power of 2 \n",
    "settings.windowsizes = (128, 64, 32, 16, 8) # if longer than n iteration the rest is ignored\n",
    "# The overlap of the interroagtion window for each pass.\n",
    "settings.overlap = (64, 32, 16, 8, 4) # This is 50% overlap\n",
    "# Has to be a value with base two. In general window size/2 is a good choice.\n",
    "# methode used for subpixel interpolation: 'gaussian','centroid','parabolic'\n",
    "settings.subpixel_method = 'gaussian'\n",
    "# order of the image interpolation for the window deformation\n",
    "settings.interpolation_order = 3\n",
    "settings.scaling_factor = 1  # scaling factor pixel/meter\n",
    "settings.dt = 1  # time between to frames (in seconds)\n",
    "'Signal to noise ratio options (only for the last pass)'\n",
    "# It is possible to decide if the S/N should be computed (for the last pass) or not\n",
    "settings.extract_sig2noise = True  # 'True' or 'False' (only for the last pass)\n",
    "# method used to calculate the signal to noise ratio 'peak2peak' or 'peak2mean'\n",
    "settings.sig2noise_method = 'peak2peak'\n",
    "# select the width of the masked to masked out pixels next to the main peak\n",
    "settings.sig2noise_mask = 2\n",
    "# If extract_sig2noise==False the values in the signal to noise ratio\n",
    "# output column are set to NaN\n",
    "'vector validation options'\n",
    "# choose if you want to do validation of the first pass: True or False\n",
    "settings.validation_first_pass = True\n",
    "# only effecting the first pass of the interrogation the following passes\n",
    "# in the multipass will be validated\n",
    "'Validation Parameters'\n",
    "# The validation is done at each iteration based on three filters.\n",
    "# The first filter is based on the min/max ranges. Observe that these values are defined in\n",
    "# terms of minimum and maximum displacement in pixel/frames.\n",
    "settings.MinMax_U_disp = (-30, 30)\n",
    "settings.MinMax_V_disp = (-30, 30)\n",
    "# The second filter is based on the global STD threshold\n",
    "settings.std_threshold = 7  # threshold of the std validation\n",
    "# The third filter is the median test (not normalized at the moment)\n",
    "settings.median_threshold = 3  # threshold of the median validation\n",
    "# On the last iteration, an additional validation can be done based on the S/N.\n",
    "settings.median_size=1 #defines the size of the local median\n",
    "'Validation based on the signal to noise ratio'\n",
    "# Note: only available when extract_sig2noise==True and only for the last\n",
    "# pass of the interrogation\n",
    "# Enable the signal to noise ratio validation. Options: True or False\n",
    "settings.do_sig2noise_validation = False # This is time consuming\n",
    "# minmum signal to noise ratio that is need for a valid vector\n",
    "settings.sig2noise_threshold = 1.2\n",
    "'Outlier replacement or Smoothing options'\n",
    "# Replacment options for vectors which are masked as invalid by the validation\n",
    "settings.replace_vectors = True # Enable the replacment. Chosse: True or False\n",
    "settings.smoothn=True #Enables smoothing of the displacemenet field\n",
    "settings.smoothn_p=0.5 # This is a smoothing parameter\n",
    "# select a method to replace the outliers: 'localmean', 'disk', 'distance'\n",
    "settings.filter_method = 'localmean'\n",
    "# maximum iterations performed to replace the outliers\n",
    "settings.max_filter_iteration = 4\n",
    "settings.filter_kernel_size = 2  # kernel size for the localmean method\n",
    "'Output options'\n",
    "# Select if you want to save the plotted vectorfield: True or False\n",
    "settings.save_plot = False\n",
    "# Choose wether you want to see the vectorfield or not :True or False\n",
    "settings.show_plot = True\n",
    "settings.scale_plot = 200  # select a value to scale the quiver plot of the vectorfield\n",
    "# run the script with the given settings"
   ]
  },
  {
   "cell_type": "code",
   "execution_count": 4,
   "metadata": {},
   "outputs": [
    {
     "name": "stdout",
     "output_type": "stream",
     "text": [
      "Saving to ../data/test10/OpenPIV_results_32_Test_robustness/field_A0000.txt\n"
     ]
    },
    {
     "data": {
      "image/png": "[encoded data removed]",
      "text/plain": [
       "<Figure size 432x288 with 1 Axes>"
      ]
     },
     "metadata": {
      "needs_background": "light"
     },
     "output_type": "display_data"
    },
    {
     "name": "stdout",
     "output_type": "stream",
     "text": [
      "Image Pair 1\n",
      "B001_1 B001_2\n"
     ]
    }
   ],
   "source": [
    "windef.piv(settings)"
   ]
  },
  {
   "cell_type": "code",
   "execution_count": null,
   "metadata": {},
   "outputs": [],
   "source": []
  }
 ],
 "metadata": {
  "kernelspec": {
   "display_name": "Python 3 (ipykernel)",
   "language": "python",
   "name": "python3"
  },
  "language_info": {
   "codemirror_mode": {
    "name": "ipython",
    "version": 3
   },
   "file_extension": ".py",
   "mimetype": "text/x-python",
   "name": "python",
   "nbconvert_exporter": "python",
   "pygments_lexer": "ipython3",
   "version": "3.8.12"
  }
 },
 "nbformat": 4,
 "nbformat_minor": 4
}
